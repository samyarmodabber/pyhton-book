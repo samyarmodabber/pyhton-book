{
 "cells": [
  {
   "cell_type": "markdown",
   "metadata": {},
   "source": [
    "# Data structures"
   ]
  },
  {
   "cell_type": "markdown",
   "metadata": {},
   "source": [
    "## Introduction\n",
    "\n",
    "**Data type**\n",
    "* int\n",
    "* complex\n",
    "* float\n",
    "* boolian\n",
    "\n",
    "**Data structures**\n",
    "\n",
    "The main data structures in Python divided to two categories: \n",
    "* A.\tSequences:\n",
    "strings, list, tuples\n",
    "\n",
    "* B.\tNon-sequences:\n",
    "dictionaries, sets"
   ]
  },
  {
   "cell_type": "markdown",
   "metadata": {},
   "source": [
    "## A. Sequences  (List, tuples, and strings)  have several commonalities:\n",
    "1. Their length can be queried with the `len` function.\n",
    "2. Thet are `immutable`.\n",
    "3. They can be concatenated with the `+ operator`.\n",
    "4. They repeated with the `* operator`.\n",
    "5. Since they are `ordered`, we can refer to the elements by integers using the `indexing` notation."
   ]
  },
  {
   "cell_type": "code",
   "execution_count": 9,
   "metadata": {},
   "outputs": [
    {
     "data": {
      "text/plain": [
       "'.'"
      ]
     },
     "execution_count": 9,
     "metadata": {},
     "output_type": "execute_result"
    }
   ],
   "source": [
    "s='A list contains arbitrary number of elements.'\n",
    "\n",
    "# len(s)\n",
    "# s[0]='a'\n",
    "# s+s\n",
    "# 'Arash '*10\n",
    "# s[3]\n",
    "s[-1]"
   ]
  },
  {
   "cell_type": "markdown",
   "metadata": {},
   "source": [
    "## A.\tSequences: List\n",
    "A list contains arbitrary number of elements (even zero) that are stored in sequential order. The elements are separated by commas and written between brackets. The elements don’t need to be of the same type. An example of a list with four values:"
   ]
  },
  {
   "cell_type": "code",
   "execution_count": 14,
   "metadata": {},
   "outputs": [
    {
     "name": "stdout",
     "output_type": "stream",
     "text": [
      "[2, 100, 'hello', 1.0]\n",
      "2371224743872\n",
      "2371224757440\n",
      "False\n"
     ]
    }
   ],
   "source": [
    "mylist1=[2, 100, \"hello\", 1.0]\n",
    "print(mylist1)\n",
    "print(id(mylist1))\n",
    "\n",
    "mylist2=[2, 100, \"hello\", 1.0]\n",
    "print(id(mylist2))\n",
    "\n",
    "\n",
    "# print(mylist1==mylist2)\n",
    "print(mylist1 is mylist2) # print(id(mylist1() == id(mylist2))"
   ]
  },
  {
   "cell_type": "markdown",
   "metadata": {},
   "source": [
    "**Indexing and Slicing**"
   ]
  },
  {
   "cell_type": "code",
   "execution_count": 25,
   "metadata": {},
   "outputs": [
    {
     "name": "stdout",
     "output_type": "stream",
     "text": [
      "['Calcules', 'Computer']\n",
      "['Physics', 'Computer']\n"
     ]
    }
   ],
   "source": [
    "courses=['Calcules','Physics','Computer','Statistic','Algebra']\n",
    "# print(courses)\n",
    "\n",
    "# print(courses[2])\n",
    "# print(courses[-1])\n",
    "\n",
    "# print(courses[2:4])\n",
    "# print(courses[2:])\n",
    "# print(courses[:2])\n",
    "\n",
    "print(courses[0:4:2])\n",
    "# print(courses[-1:0:-1])\n",
    "\n",
    "# print(courses[::2])\n",
    "print(courses[1:-2])"
   ]
  },
  {
   "cell_type": "markdown",
   "metadata": {},
   "source": [
    "**Modifying**"
   ]
  },
  {
   "cell_type": "code",
   "execution_count": 38,
   "metadata": {},
   "outputs": [
    {
     "name": "stdout",
     "output_type": "stream",
     "text": [
      "['Calcules1', 'Physics1', 'Computer', 'Statistic', 'Logic', 'Algebra', 'Analysis', 'Geometry', 'PDE']\n",
      "ODE\n"
     ]
    }
   ],
   "source": [
    "courses=['Calcules','Physics','Computer','Statistic','Algebra']\n",
    "# print(courses)\n",
    "#Modifying element of a lists\n",
    "courses[0]='Calcules1'\n",
    "# print(courses)\n",
    "# #Modifying any slice of a lists\n",
    "courses[0:2]=['Calcules1','Calcules2','Physics1','Physics2']\n",
    "# print(courses)\n",
    "courses.remove('Calcules2')\n",
    "courses.remove('Physics2')\n",
    "# print(courses)\n",
    "courses.append('Analysis')\n",
    "# print(courses)\n",
    "courses.insert(4,'Logic')\n",
    "# print(courses)\n",
    "newCourses=['Geometry','ODE','PDE']\n",
    "courses.extend(newCourses)\n",
    "# print(courses)\n",
    "poped=courses.pop(-2) # pop()==pop(-1)\n",
    "print(courses)\n",
    "print(poped)"
   ]
  },
  {
   "cell_type": "code",
   "execution_count": 48,
   "metadata": {},
   "outputs": [
    {
     "name": "stdout",
     "output_type": "stream",
     "text": [
      "['Calcules', 'Computer', 'Statistic', 'Algebra']\n"
     ]
    }
   ],
   "source": [
    "courses=['Calcules','Physics','Computer','Statistic','Algebra']\n",
    "\n",
    "delete=courses.pop(1)\n",
    "print(courses)"
   ]
  },
  {
   "cell_type": "code",
   "execution_count": 49,
   "metadata": {},
   "outputs": [
    {
     "data": {
      "text/plain": [
       "'Physics'"
      ]
     },
     "execution_count": 49,
     "metadata": {},
     "output_type": "execute_result"
    }
   ],
   "source": [
    "delete"
   ]
  },
  {
   "cell_type": "code",
   "execution_count": 55,
   "metadata": {},
   "outputs": [
    {
     "name": "stdout",
     "output_type": "stream",
     "text": [
      "[2, 3, -4, -5, 6]\n"
     ]
    }
   ],
   "source": [
    "courses=['Calcules','Physics','Computer','Statistic','Algebra']\n",
    "\n",
    "# courses.reverse()\n",
    "# print(courses)\n",
    "\n",
    "# courses.sort()\n",
    "# print(courses)\n",
    "\n",
    "# courses.sort(reverse=True)\n",
    "# print(courses)\n",
    "\n",
    "# after_sorted=sorted(courses)\n",
    "# print(after_sorted)\n",
    "# print(courses)\n",
    "\n",
    "# marks=[-5,-4,3,2,6]\n",
    "# simple_sorted=sorted(marks)\n",
    "# print(simple_sorted)\n",
    "\n",
    "abs_sorted=sorted(marks, key=abs)\n",
    "print(abs_sorted)"
   ]
  },
  {
   "cell_type": "code",
   "execution_count": 58,
   "metadata": {},
   "outputs": [
    {
     "name": "stdout",
     "output_type": "stream",
     "text": [
      "3\n",
      "20\n",
      "103\n",
      "8\n"
     ]
    }
   ],
   "source": [
    "scores=[12, 17, 14, 10, 3, 9, 20, 18]\n",
    "print(min(scores))\n",
    "print(max(scores))\n",
    "print(sum(scores))\n",
    "print(len(scores))"
   ]
  },
  {
   "cell_type": "code",
   "execution_count": 64,
   "metadata": {},
   "outputs": [
    {
     "name": "stdout",
     "output_type": "stream",
     "text": [
      "['A', 'list', 'contains', 'arbitrary', 'number', 'of', 'elements']\n"
     ]
    }
   ],
   "source": [
    "courses=['Calcules1','Physics1','Computer','Statistic','Algebra']\n",
    "\n",
    "# print(courses.index('Statistic'))\n",
    "# print('Computer' in courses)\n",
    "\n",
    "# tostring=' '.join(courses)\n",
    "# print(tostring)\n",
    "\n",
    "my_st='A list contains arbitrary number of elements'\n",
    "words_list=my_st.split(' ')\n",
    "print(words_list)"
   ]
  },
  {
   "cell_type": "markdown",
   "metadata": {},
   "source": [
    "**Range Function**"
   ]
  },
  {
   "cell_type": "markdown",
   "metadata": {},
   "source": [
    "Trivial lists can be tedious to write: [0,1,2,3,4,5,6]. The function range creates numeric ranges automatically. \n",
    "\n",
    "* Then end value is not included in the sequence. \n",
    "* consumes less memory than the corresponding list. \n",
    "\n",
    "This is because in a list all the elements are stored in the memory, whereas the range generates the requested elements only when needed. For example, when the for loop asks for the next element from the range at each iteration, only a single element from the range exists in memory at the same time. This makes a big difference when using large ranges, like range(1000000)."
   ]
  },
  {
   "cell_type": "code",
   "execution_count": 77,
   "metadata": {},
   "outputs": [
    {
     "name": "stdout",
     "output_type": "stream",
     "text": [
      "[0, 3, 6, 9, 12, 15, 18]\n"
     ]
    }
   ],
   "source": [
    "range1=range(7)\n",
    "# print(type(range1)) # Note that L is not a list!\n",
    "# print(list(range1))\n",
    "\n",
    "# range2=range(3,7)\n",
    "# print(list(range2))\n",
    "\n",
    "range3=range(0,20,3)\n",
    "print(list(range3))"
   ]
  },
  {
   "cell_type": "code",
   "execution_count": 72,
   "metadata": {},
   "outputs": [
    {
     "data": {
      "text/plain": [
       "123"
      ]
     },
     "execution_count": 72,
     "metadata": {},
     "output_type": "execute_result"
    }
   ],
   "source": [
    "list(range1)\n",
    "int('123')"
   ]
  },
  {
   "cell_type": "markdown",
   "metadata": {},
   "source": [
    "## A.\tSequences: Tuple"
   ]
  },
  {
   "cell_type": "markdown",
   "metadata": {},
   "source": [
    "A tuple is fixed length, immutable, and ordered container. Elements of tuple are separated by commas and written between parentheses. Examples of tuples:"
   ]
  },
  {
   "cell_type": "code",
   "execution_count": 78,
   "metadata": {},
   "outputs": [
    {
     "data": {
      "text/plain": [
       "tuple"
      ]
     },
     "execution_count": 78,
     "metadata": {},
     "output_type": "execute_result"
    }
   ],
   "source": [
    "singleton=(3,)               # a singleton\n",
    "pair=(1,3)              # a pair\n",
    "triple=(1, \"hello\", 1.0); # a triple\n",
    "type(singleton)"
   ]
  },
  {
   "cell_type": "code",
   "execution_count": 81,
   "metadata": {},
   "outputs": [
    {
     "data": {
      "text/plain": [
       "1.0"
      ]
     },
     "execution_count": 81,
     "metadata": {},
     "output_type": "execute_result"
    }
   ],
   "source": [
    "triple[2]"
   ]
  },
  {
   "cell_type": "markdown",
   "metadata": {},
   "source": [
    "Note the difference between (3) and (3,). Because the parentheses can also be used to group expressions, the first one defines an integer, but the second one defines a tuple with single element. As we can see, both lists and tuples can contain values of different type."
   ]
  },
  {
   "cell_type": "markdown",
   "metadata": {},
   "source": [
    "We can also modify a list by using mutating methods of the list class, namely the methods append, extend, insert, remove, pop, reverse, and sort. "
   ]
  },
  {
   "cell_type": "markdown",
   "metadata": {},
   "source": [
    "Note that we cannot perform these modifications on tuples or strings since they are immutable"
   ]
  },
  {
   "cell_type": "markdown",
   "metadata": {},
   "source": [
    "## B.\tNon-Sequences: Sets\n",
    "A set is a dynamic, unordered container. "
   ]
  },
  {
   "cell_type": "code",
   "execution_count": 87,
   "metadata": {},
   "outputs": [
    {
     "data": {
      "text/plain": [
       "set"
      ]
     },
     "execution_count": 87,
     "metadata": {},
     "output_type": "execute_result"
    }
   ],
   "source": [
    "semester1={'Calcules1','Physics','Computer','Statistic'}\n",
    "semester2={'Calcules2','Computer','Algebra'}\n",
    "\n",
    "# print(semester1)\n",
    "# print('Algebra' in semester1)\n",
    "\n",
    "# print(semester1.intersection(semester2))\n",
    "# print(semester1.difference(semester2))\n",
    "# print(semester1.union(semester2))\n",
    "\n",
    "empty_set=set() # Not {}\n",
    "type(empty_set)\n"
   ]
  },
  {
   "cell_type": "markdown",
   "metadata": {},
   "source": [
    "## B.\tNon-Sequences: Dictionaries\n",
    "A dictionary is a dynamic, unordered container. \n",
    "\n",
    "Instead of using integers to access the elements of the container, the dictionary uses **keys** to access the stored values. \n",
    "\n",
    "The dictionary can be created by listing the comma separated key-value pairs in braces. Keys and values are separated by a colon. \n",
    "\n",
    "A tuple (key,value) is called an **item** of the dictionary."
   ]
  },
  {
   "cell_type": "code",
   "execution_count": 89,
   "metadata": {},
   "outputs": [
    {
     "name": "stdout",
     "output_type": "stream",
     "text": [
      "Sara\n",
      "23\n",
      "2020121110\n",
      "None\n",
      "I can Not Found\n",
      "222-2222-2222\n"
     ]
    }
   ],
   "source": [
    "student1={'name':'Sara', \n",
    "          'age':23, \n",
    "          'student_id':2020121110, \n",
    "          'courses':{'Calcules2','Computer','Algebra'}\n",
    "         }\n",
    "\n",
    "student2=dict([\n",
    "    ('name', 'Danial'), \n",
    "    ('age', 22), \n",
    "    ('student_id', 2019121002)\n",
    "]) \n",
    "\n",
    "student3=dict(\n",
    "    name='Arman', \n",
    "    age=18, \n",
    "    courses=set()\n",
    ");\n",
    "\n",
    "\n",
    "print(student1['name'])\n",
    "print(student1.pop('age'))\n",
    "print(student1.get('student_id'))\n",
    "\n",
    "#print(student1['phone']) # Error\n",
    "print(student1.get('phone'))\n",
    "print(student1.get('phone','I can Not Found'))\n",
    "\n",
    "#Add a key-value\n",
    "student1['phone']='222-2222-2222'\n",
    "print(student1['phone'])\n",
    "\n",
    "student2.clear()"
   ]
  },
  {
   "cell_type": "code",
   "execution_count": 98,
   "metadata": {},
   "outputs": [
    {
     "name": "stdout",
     "output_type": "stream",
     "text": [
      "{}\n"
     ]
    }
   ],
   "source": [
    "student1={'name':'Sara', \n",
    "          'age':23, \n",
    "          'student_id':2020121110, \n",
    "          'courses':{'Calcules2','Computer','Algebra'}\n",
    "         }\n",
    "# print(student1)\n",
    "\n",
    "# student1.update({'age':24,'courses':{'Logic','Linear Algebra'}})\n",
    "# print(student1)\n",
    "\n",
    "# del student1['courses']\n",
    "# print(student1)\n",
    "\n",
    "\n",
    "# print(len(student1))\n",
    "# print(student1.keys())\n",
    "# print(student1.values())\n",
    "# print(student1.items())\n",
    "\n",
    "# for key,value in student1.items():\n",
    "#     print(key,value)\n",
    "\n",
    "student1.clear()\n",
    "print(student1)"
   ]
  },
  {
   "cell_type": "code",
   "execution_count": 99,
   "metadata": {},
   "outputs": [
    {
     "name": "stdout",
     "output_type": "stream",
     "text": [
      "{}\n",
      "<class 'dict'>\n"
     ]
    }
   ],
   "source": [
    "student4={}\n",
    "print(student4)\n",
    "print(type(student4))\n"
   ]
  }
 ],
 "metadata": {
  "kernelspec": {
   "display_name": "Python 3",
   "language": "python",
   "name": "python3"
  },
  "language_info": {
   "codemirror_mode": {
    "name": "ipython",
    "version": 3
   },
   "file_extension": ".py",
   "mimetype": "text/x-python",
   "name": "python",
   "nbconvert_exporter": "python",
   "pygments_lexer": "ipython3",
   "version": "3.8.3"
  }
 },
 "nbformat": 4,
 "nbformat_minor": 4
}
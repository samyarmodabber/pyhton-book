{
 "cells": [
  {
   "cell_type": "markdown",
   "metadata": {},
   "source": [
    "# Conditions and Loops"
   ]
  },
  {
   "cell_type": "markdown",
   "metadata": {},
   "source": [
    "## if, elif, else"
   ]
  },
  {
   "cell_type": "code",
   "execution_count": 8,
   "metadata": {},
   "outputs": [
    {
     "name": "stdout",
     "output_type": "stream",
     "text": [
      "[2, 3, 5, 8] is less than [2, 3, 7].\n"
     ]
    }
   ],
   "source": [
    "# a='sara' #23\n",
    "# b='saara' #22\n",
    "a =[2,3,5,8]\n",
    "b= [2,3,7]\n",
    "\n",
    "if a==b:\n",
    "    print(f'{a} is equal {b}.')\n",
    "elif a>b:\n",
    "    print(f'{a} is greater than {b}.')\n",
    "elif a<b:     \n",
    "    print(f'{a} is less than {b}.')\n",
    "else:\n",
    "    print('Non of theme')"
   ]
  },
  {
   "cell_type": "markdown",
   "metadata": {},
   "source": [
    "### Logic operators"
   ]
  },
  {
   "cell_type": "code",
   "execution_count": 9,
   "metadata": {},
   "outputs": [
    {
     "name": "stdout",
     "output_type": "stream",
     "text": [
      "Login Page\n"
     ]
    }
   ],
   "source": [
    "user='Admin'\n",
    "logged_in=False\n",
    "\n",
    "if user=='Admin' and logged_in:\n",
    "    print ('Admin Page')\n",
    "elif not logged_in:\n",
    "    print('Login Page')"
   ]
  },
  {
   "cell_type": "markdown",
   "metadata": {},
   "source": [
    "### False Value\n",
    "* False\n",
    "* None\n",
    "* Zero\n",
    "* Empty structure: '',  [],  (), {} "
   ]
  },
  {
   "cell_type": "code",
   "execution_count": 13,
   "metadata": {},
   "outputs": [
    {
     "name": "stdout",
     "output_type": "stream",
     "text": [
      "All of them are False\n"
     ]
    }
   ],
   "source": [
    "if None or 0 or [] or () or {} or '':\n",
    "    print('One of them is True')\n",
    "else:\n",
    "    print('All of them are False')"
   ]
  },
  {
   "cell_type": "markdown",
   "metadata": {},
   "source": [
    "## For"
   ]
  },
  {
   "cell_type": "code",
   "execution_count": 10,
   "metadata": {},
   "outputs": [
    {
     "name": "stdout",
     "output_type": "stream",
     "text": [
      "Calcules\n",
      "Physics\n",
      "Computer\n",
      "Statistic\n",
      "Algebra\n"
     ]
    }
   ],
   "source": [
    "courses=['Calcules','Physics','Computer','Statistic','Algebra']\n",
    "\n",
    "for c in courses:\n",
    "    print(c)"
   ]
  },
  {
   "cell_type": "code",
   "execution_count": 11,
   "metadata": {},
   "outputs": [
    {
     "name": "stdout",
     "output_type": "stream",
     "text": [
      "*\n",
      "*\n",
      "*\n",
      "*\n",
      "*\n"
     ]
    }
   ],
   "source": [
    "courses=['Calcules','Physics','Computer','Statistic','Algebra']\n",
    "\n",
    "for _ in courses:\n",
    "    print('*')"
   ]
  },
  {
   "cell_type": "code",
   "execution_count": 13,
   "metadata": {},
   "outputs": [
    {
     "data": {
      "text/plain": [
       "[0, 1, 2, 3, 4, 5, 6]"
      ]
     },
     "execution_count": 13,
     "metadata": {},
     "output_type": "execute_result"
    }
   ],
   "source": [
    "list(range(7))"
   ]
  },
  {
   "cell_type": "code",
   "execution_count": 17,
   "metadata": {},
   "outputs": [
    {
     "name": "stdout",
     "output_type": "stream",
     "text": [
      "0 is Even.\n",
      "1 is Odd.\n",
      "2 is Even.\n",
      "3 is Odd.\n",
      "4 is Even.\n",
      "5 is Odd.\n",
      "6 is Even.\n"
     ]
    }
   ],
   "source": [
    "for i in range(7):\n",
    "    if i%2==0:\n",
    "        print(f'{i} is Even.')\n",
    "    else:\n",
    "        print(f'{i} is Odd.')"
   ]
  },
  {
   "cell_type": "code",
   "execution_count": 19,
   "metadata": {},
   "outputs": [
    {
     "name": "stdout",
     "output_type": "stream",
     "text": [
      "Your password is not correct. 1/3.\n",
      "Your password is not correct. 2/3.\n",
      "You input incorrected password 3 times. Your card is blocked.\n"
     ]
    }
   ],
   "source": [
    "limit=3\n",
    "\n",
    "for i in range(1,7):\n",
    "    if i<limit:\n",
    "        print(f'Your password is not correct. {i}/{limit}.')\n",
    "    else:\n",
    "        print(f'You input incorrected password {i} times. Your card is blocked.')\n",
    "        break"
   ]
  },
  {
   "cell_type": "code",
   "execution_count": 26,
   "metadata": {},
   "outputs": [
    {
     "name": "stdout",
     "output_type": "stream",
     "text": [
      "1\n",
      "2\n",
      "4\n",
      "5\n",
      "7\n",
      "8\n",
      "10\n",
      "11\n",
      "13\n",
      "14\n",
      "16\n",
      "17\n",
      "19\n"
     ]
    }
   ],
   "source": [
    "for i in range(20):\n",
    "    if i%3==0:\n",
    "        continue\n",
    "    print(i)"
   ]
  },
  {
   "cell_type": "code",
   "execution_count": 28,
   "metadata": {},
   "outputs": [
    {
     "name": "stdout",
     "output_type": "stream",
     "text": [
      "0 a\n",
      "0 b\n",
      "0 c\n",
      "1 a\n",
      "1 b\n",
      "1 c\n",
      "2 a\n",
      "2 b\n",
      "2 c\n"
     ]
    }
   ],
   "source": [
    "for i in range(3):\n",
    "    for j in 'abc':\n",
    "        print(i,j)"
   ]
  },
  {
   "cell_type": "markdown",
   "metadata": {},
   "source": [
    "## while"
   ]
  },
  {
   "cell_type": "code",
   "execution_count": 22,
   "metadata": {},
   "outputs": [
    {
     "name": "stdout",
     "output_type": "stream",
     "text": [
      "1\n",
      "2\n",
      "3\n",
      "4\n",
      "5\n",
      "6\n",
      "7\n",
      "8\n",
      "9\n",
      "10\n",
      "11\n"
     ]
    }
   ],
   "source": [
    "x = 0\n",
    "\n",
    "while x<=10:\n",
    "    x+=1\n",
    "    print(x)\n",
    "    "
   ]
  },
  {
   "cell_type": "code",
   "execution_count": 21,
   "metadata": {},
   "outputs": [
    {
     "data": {
      "text/plain": [
       "11"
      ]
     },
     "execution_count": 21,
     "metadata": {},
     "output_type": "execute_result"
    }
   ],
   "source": [
    "x"
   ]
  },
  {
   "cell_type": "code",
   "execution_count": 23,
   "metadata": {},
   "outputs": [
    {
     "data": {
      "text/plain": [
       "96"
      ]
     },
     "execution_count": 23,
     "metadata": {},
     "output_type": "execute_result"
    }
   ],
   "source": [
    "u=[2 ,3,6,8,5]\n",
    "v=[-1,5,0,6,7]\n",
    "\n",
    "s=0\n",
    "n=len(u)\n",
    "\n",
    "for i in range(n):\n",
    "    s+=u[i]*v[i]\n",
    "    \n",
    "s"
   ]
  },
  {
   "cell_type": "code",
   "execution_count": 28,
   "metadata": {},
   "outputs": [
    {
     "data": {
      "text/plain": [
       "148"
      ]
     },
     "execution_count": 28,
     "metadata": {},
     "output_type": "execute_result"
    }
   ],
   "source": [
    "u=[2 ,3,6,8,5,4,2,5,2]\n",
    "v=[-1,5,0,6,7,-1,8,6,5]\n",
    "\n",
    "s=0\n",
    "n=len(u)\n",
    "\n",
    "if len(u)!=len(v):\n",
    "    print(f'dim is not equal: {len(u)} , {len(v)}')\n",
    "else:\n",
    "    for i in range(n):\n",
    "        s+=u[i]*v[i]\n",
    "    \n",
    "s"
   ]
  },
  {
   "cell_type": "code",
   "execution_count": 29,
   "metadata": {},
   "outputs": [
    {
     "data": {
      "text/plain": [
       "148"
      ]
     },
     "execution_count": 29,
     "metadata": {},
     "output_type": "execute_result"
    }
   ],
   "source": [
    "u=[2 ,3,6,8,5,4,2,5,2]\n",
    "v=[-1,5,0,6,7,-1,8,6,5]\n",
    "\n",
    "s=0\n",
    "n=len(u)\n",
    "\n",
    "if len(u)==len(v):\n",
    "    for i in range(n):\n",
    "        s+=u[i]*v[i]\n",
    "else:\n",
    "    print(f'dim is not equal: {len(u)} , {len(v)}')\n",
    "    \n",
    "    \n",
    "s"
   ]
  },
  {
   "cell_type": "code",
   "execution_count": 37,
   "metadata": {},
   "outputs": [],
   "source": [
    "def inner_product(a,b):\n",
    "    m=len(a)\n",
    "    n=len(b)\n",
    "    s=0\n",
    "    if m==n :\n",
    "        for i in range(m):\n",
    "            s+=a[i]*b[i]\n",
    "    else:\n",
    "        return 'Dimentions are not equal'\n",
    "    return s"
   ]
  },
  {
   "cell_type": "code",
   "execution_count": 31,
   "metadata": {},
   "outputs": [
    {
     "data": {
      "text/plain": [
       "148"
      ]
     },
     "execution_count": 31,
     "metadata": {},
     "output_type": "execute_result"
    }
   ],
   "source": [
    "inner_product(u,v)"
   ]
  },
  {
   "cell_type": "code",
   "execution_count": 32,
   "metadata": {},
   "outputs": [
    {
     "data": {
      "text/plain": [
       "69"
      ]
     },
     "execution_count": 32,
     "metadata": {},
     "output_type": "execute_result"
    }
   ],
   "source": [
    "u1=[2,3,6]\n",
    "u2=[0,5,9]\n",
    "inner_product(u1,u2)"
   ]
  },
  {
   "cell_type": "code",
   "execution_count": 38,
   "metadata": {},
   "outputs": [
    {
     "data": {
      "text/plain": [
       "'Dimentions are not equal'"
      ]
     },
     "execution_count": 38,
     "metadata": {},
     "output_type": "execute_result"
    }
   ],
   "source": [
    "u1=[2,3,6,3]\n",
    "u2=[0,5,9]\n",
    "inner_product(u1,u2)"
   ]
  },
  {
   "cell_type": "code",
   "execution_count": null,
   "metadata": {},
   "outputs": [],
   "source": [
    "a=[1,2,3,4,5,6,7,8,9]\n",
    "\n",
    "\n",
    "# 1 2 3\n",
    "# 4 5 6\n",
    "# 7 8 9\n",
    "\n"
   ]
  },
  {
   "cell_type": "code",
   "execution_count": 40,
   "metadata": {},
   "outputs": [
    {
     "data": {
      "text/plain": [
       "[1,\n",
       " 2,\n",
       " 3,\n",
       " 4,\n",
       " 5,\n",
       " 6,\n",
       " 7,\n",
       " 8,\n",
       " 9,\n",
       " 10,\n",
       " 11,\n",
       " 12,\n",
       " 13,\n",
       " 14,\n",
       " 15,\n",
       " 16,\n",
       " 17,\n",
       " 18,\n",
       " 19,\n",
       " 20,\n",
       " 21,\n",
       " 22,\n",
       " 23,\n",
       " 24,\n",
       " 25]"
      ]
     },
     "execution_count": 40,
     "metadata": {},
     "output_type": "execute_result"
    }
   ],
   "source": [
    "list(range(1,26))"
   ]
  }
 ],
 "metadata": {
  "kernelspec": {
   "display_name": "Python 3",
   "language": "python",
   "name": "python3"
  },
  "language_info": {
   "codemirror_mode": {
    "name": "ipython",
    "version": 3
   },
   "file_extension": ".py",
   "mimetype": "text/x-python",
   "name": "python",
   "nbconvert_exporter": "python",
   "pygments_lexer": "ipython3",
   "version": "3.8.3"
  }
 },
 "nbformat": 4,
 "nbformat_minor": 4
}
{
 "cells": [
  {
   "cell_type": "markdown",
   "metadata": {},
   "source": [
    "# Basic and String"
   ]
  },
  {
   "cell_type": "markdown",
   "metadata": {},
   "source": [
    "## Basic"
   ]
  },
  {
   "cell_type": "markdown",
   "metadata": {
    "colab_type": "text",
    "id": "u_ZrC_n3BVXY"
   },
   "source": [
    "**Hello World!**"
   ]
  },
  {
   "cell_type": "code",
   "execution_count": 1,
   "metadata": {
    "colab": {
     "base_uri": "https://localhost:8080/",
     "height": 34
    },
    "colab_type": "code",
    "executionInfo": {
     "elapsed": 1369,
     "status": "ok",
     "timestamp": 1593802499450,
     "user": {
      "displayName": "Samyar Modabber",
      "photoUrl": "https://lh3.googleusercontent.com/a-/AOh14Gii7rGSts4QF_CBI22EudPsQiOuPk19sNMballw=s64",
      "userId": "17915325615269228654"
     },
     "user_tz": -120
    },
    "id": "WgQ9FuSkBHFh",
    "outputId": "5b62fe70-1713-4520-a5e0-c9f23e489f33"
   },
   "outputs": [
    {
     "name": "stdout",
     "output_type": "stream",
     "text": [
      "Hello world\n"
     ]
    }
   ],
   "source": [
    "#Print Hello \n",
    "print('Hello world')\n",
    "\n",
    "#Case sensetive\n",
    "# Print('Hello world')\n"
   ]
  },
  {
   "cell_type": "markdown",
   "metadata": {},
   "source": [
    "**input**"
   ]
  },
  {
   "cell_type": "code",
   "execution_count": 2,
   "metadata": {},
   "outputs": [
    {
     "name": "stdout",
     "output_type": "stream",
     "text": [
      "Give me your name: Sam\n",
      "Hello, Sam\n"
     ]
    }
   ],
   "source": [
    "name=input(\"Give me your name: \")\n",
    "print(\"Hello,\", name)"
   ]
  },
  {
   "cell_type": "markdown",
   "metadata": {
    "colab_type": "text",
    "id": "aScc7x97CMMj"
   },
   "source": [
    "**variable**"
   ]
  },
  {
   "cell_type": "code",
   "execution_count": 5,
   "metadata": {
    "colab": {
     "base_uri": "https://localhost:8080/",
     "height": 51
    },
    "colab_type": "code",
    "executionInfo": {
     "elapsed": 865,
     "status": "ok",
     "timestamp": 1593804777071,
     "user": {
      "displayName": "Samyar Modabber",
      "photoUrl": "https://lh3.googleusercontent.com/a-/AOh14Gii7rGSts4QF_CBI22EudPsQiOuPk19sNMballw=s64",
      "userId": "17915325615269228654"
     },
     "user_tz": -120
    },
    "id": "1CboKC0iCZcL",
    "outputId": "416cf7c0-ffd7-45d3-a776-26cc9bde5071"
   },
   "outputs": [
    {
     "data": {
      "text/plain": [
       "12"
      ]
     },
     "execution_count": 5,
     "metadata": {},
     "output_type": "execute_result"
    }
   ],
   "source": [
    "message='Hello world!'\n",
    "# print(message)\n",
    "# type(message)\n",
    "# len(message)"
   ]
  },
  {
   "cell_type": "code",
   "execution_count": 8,
   "metadata": {},
   "outputs": [
    {
     "name": "stdout",
     "output_type": "stream",
     "text": [
      "Hello Hello Hello\n"
     ]
    }
   ],
   "source": [
    "a=b=c='Hello'\n",
    "print(a,b,c)"
   ]
  },
  {
   "cell_type": "code",
   "execution_count": 10,
   "metadata": {},
   "outputs": [],
   "source": [
    "first_name='Sara'\n",
    "\n",
    "#Wrong syntax\n",
    "# first-name ='Sara'\n",
    "# 5_name ='Sara'\n",
    "# first name ='Sara'"
   ]
  },
  {
   "cell_type": "markdown",
   "metadata": {
    "colab_type": "text",
    "id": "-v5uQLAzErih"
   },
   "source": [
    "**Single qoutes and duble qoutes**"
   ]
  },
  {
   "cell_type": "code",
   "execution_count": 11,
   "metadata": {
    "colab": {
     "base_uri": "https://localhost:8080/",
     "height": 34
    },
    "colab_type": "code",
    "executionInfo": {
     "elapsed": 836,
     "status": "ok",
     "timestamp": 1593803746440,
     "user": {
      "displayName": "Samyar Modabber",
      "photoUrl": "https://lh3.googleusercontent.com/a-/AOh14Gii7rGSts4QF_CBI22EudPsQiOuPk19sNMballw=s64",
      "userId": "17915325615269228654"
     },
     "user_tz": -120
    },
    "id": "QGeDgKzZE5p4",
    "outputId": "9055c7b2-585a-4ee5-b52f-bce49ccc0aaa"
   },
   "outputs": [
    {
     "name": "stdout",
     "output_type": "stream",
     "text": [
      "He's my friend.\n",
      "His name is \"Milad\".\n",
      "He's an \"Artist\".\n",
      " New line\n"
     ]
    }
   ],
   "source": [
    "message1=\"He's my friend.\"\n",
    "\n",
    "message2='His name is \"Milad\".'\n",
    "#  He's \"Milad\"\n",
    "message3='He\\'s an \"Artist\".\\n New line'\n",
    "\n",
    "print(message1)\n",
    "print(message2)\n",
    "print(message3)\n"
   ]
  },
  {
   "cell_type": "markdown",
   "metadata": {
    "colab_type": "text",
    "id": "RZgbIclyHBmQ"
   },
   "source": [
    "**Multi line**"
   ]
  },
  {
   "cell_type": "code",
   "execution_count": 13,
   "metadata": {
    "colab": {
     "base_uri": "https://localhost:8080/",
     "height": 119
    },
    "colab_type": "code",
    "executionInfo": {
     "elapsed": 689,
     "status": "ok",
     "timestamp": 1593804246627,
     "user": {
      "displayName": "Samyar Modabber",
      "photoUrl": "https://lh3.googleusercontent.com/a-/AOh14Gii7rGSts4QF_CBI22EudPsQiOuPk19sNMballw=s64",
      "userId": "17915325615269228654"
     },
     "user_tz": -120
    },
    "id": "CUbbvFD2HF-L",
    "outputId": "f32e17a4-9697-4c3e-8b00-60366f49d7b3"
   },
   "outputs": [
    {
     "name": "stdout",
     "output_type": "stream",
     "text": [
      "Hello Milad\n",
      "I am intereted to learn Python.\n",
      "Could you teach me?\n",
      "Sincerely,\n",
      "Sohrab\n",
      "\n"
     ]
    }
   ],
   "source": [
    "message4=\"\"\"Hello Milad\n",
    "I am intereted to learn Python.\n",
    "Could you teach me?\n",
    "Sincerely,\n",
    "Sohrab\n",
    "\"\"\"\n",
    "print(message4)"
   ]
  },
  {
   "cell_type": "markdown",
   "metadata": {
    "colab_type": "text",
    "id": "XNvqi09fICMc"
   },
   "source": [
    "**Indexing and Slicing**"
   ]
  },
  {
   "cell_type": "code",
   "execution_count": 15,
   "metadata": {
    "colab": {
     "base_uri": "https://localhost:8080/",
     "height": 136
    },
    "colab_type": "code",
    "executionInfo": {
     "elapsed": 802,
     "status": "ok",
     "timestamp": 1593805220535,
     "user": {
      "displayName": "Samyar Modabber",
      "photoUrl": "https://lh3.googleusercontent.com/a-/AOh14Gii7rGSts4QF_CBI22EudPsQiOuPk19sNMballw=s64",
      "userId": "17915325615269228654"
     },
     "user_tz": -120
    },
    "id": "rkDfX_H_HrCV",
    "outputId": "232c10e2-0931-4316-eddc-d6aa13d2c913"
   },
   "outputs": [
    {
     "name": "stdout",
     "output_type": "stream",
     "text": [
      "H\n",
      "Hi. \n",
      "Hi. \n",
      "Where are you nowdays?\n",
      "owdays\n",
      "H.Weeaeyunwas\n",
      "?\n",
      "o\n",
      "e are you n\n",
      "syadwon uoy era erehW \n",
      "?syadwon uoy era erehW .iH\n"
     ]
    }
   ],
   "source": [
    "message5='Hi. Where are you nowdays?'\n",
    "\n",
    "## one element\n",
    "print(message5[0])\n",
    "\n",
    "\n",
    "# Interval\n",
    "print(message5[0:4])\n",
    "print(message5[:4])\n",
    "print(message5[4:])\n",
    "print(message5[19:25])\n",
    "print(message5[0:25:2])\n",
    "\n",
    "## Negetive\n",
    "print(message5[-1])\n",
    "print(message5[-7])\n",
    "\n",
    "print(message5[8:-7])\n",
    "print(message5[-2:2:-1])\n",
    "print(message5[::-1])"
   ]
  },
  {
   "cell_type": "markdown",
   "metadata": {
    "colab_type": "text",
    "id": "uL4NR2BIJqqO"
   },
   "source": [
    "**lower, UPPER**"
   ]
  },
  {
   "cell_type": "code",
   "execution_count": 20,
   "metadata": {
    "colab": {
     "base_uri": "https://localhost:8080/",
     "height": 136
    },
    "colab_type": "code",
    "executionInfo": {
     "elapsed": 938,
     "status": "ok",
     "timestamp": 1593807193431,
     "user": {
      "displayName": "Samyar Modabber",
      "photoUrl": "https://lh3.googleusercontent.com/a-/AOh14Gii7rGSts4QF_CBI22EudPsQiOuPk19sNMballw=s64",
      "userId": "17915325615269228654"
     },
     "user_tz": -120
    },
    "id": "1dfvfrppIjWS",
    "outputId": "3d8ff8af-f4e6-4d80-cbb8-4e08f529ad8d"
   },
   "outputs": [
    {
     "name": "stdout",
     "output_type": "stream",
     "text": [
      "thanks dear saam.\n",
      "THANKS DEAR SAAM.\n",
      "Thanks dear saam.\n",
      "1\n",
      "1\n",
      "12\n",
      "-1\n",
      "4\n"
     ]
    },
    {
     "data": {
      "text/plain": [
       "0"
      ]
     },
     "execution_count": 20,
     "metadata": {},
     "output_type": "execute_result"
    }
   ],
   "source": [
    "message6='thanks dear Saam.'\n",
    "print(message6.lower())\n",
    "print(message6.upper())\n",
    "print(message6.capitalize())\n",
    "\n",
    "print(message6.count('s'))\n",
    "print(message6.count('aa'))\n",
    "\n",
    "print(message6.find('Saam'))\n",
    "print(message6.find('Sam'))"
   ]
  },
  {
   "cell_type": "markdown",
   "metadata": {
    "colab_type": "text",
    "id": "Gx1STRB6OHMt"
   },
   "source": [
    "**replace**"
   ]
  },
  {
   "cell_type": "code",
   "execution_count": 21,
   "metadata": {
    "colab": {
     "base_uri": "https://localhost:8080/",
     "height": 68
    },
    "colab_type": "code",
    "executionInfo": {
     "elapsed": 1202,
     "status": "ok",
     "timestamp": 1593806048353,
     "user": {
      "displayName": "Samyar Modabber",
      "photoUrl": "https://lh3.googleusercontent.com/a-/AOh14Gii7rGSts4QF_CBI22EudPsQiOuPk19sNMballw=s64",
      "userId": "17915325615269228654"
     },
     "user_tz": -120
    },
    "id": "pmzw_PVmMy59",
    "outputId": "58a29fed-95e0-45f0-824a-be74a1aa0179"
   },
   "outputs": [
    {
     "name": "stdout",
     "output_type": "stream",
     "text": [
      "I am int_r_t_d to l_arn Python.\n",
      "I am intereted to learn Python.\n",
      "I am int_r_t_d to l_arn Python.\n"
     ]
    }
   ],
   "source": [
    "message7='I am intereted to learn Python.'\n",
    "edited=message7.replace('e','_')\n",
    "print(edited)\n",
    "\n",
    "print(message7)\n",
    "\n",
    "message7=message7.replace('e','_')\n",
    "print(message7)"
   ]
  },
  {
   "cell_type": "code",
   "execution_count": 25,
   "metadata": {},
   "outputs": [
    {
     "name": "stdout",
     "output_type": "stream",
     "text": [
      "I am int_r_ted to learn Python.\n"
     ]
    }
   ],
   "source": [
    "message7='I am intereted to learn Python.'\n",
    "edited=message7.replace('e','_',2)\n",
    "print(edited)"
   ]
  },
  {
   "cell_type": "markdown",
   "metadata": {
    "colab_type": "text",
    "id": "ySTK3WRPQrXO"
   },
   "source": [
    "**concat**"
   ]
  },
  {
   "cell_type": "code",
   "execution_count": null,
   "metadata": {
    "colab": {
     "base_uri": "https://localhost:8080/",
     "height": 34
    },
    "colab_type": "code",
    "executionInfo": {
     "elapsed": 881,
     "status": "ok",
     "timestamp": 1593806591208,
     "user": {
      "displayName": "Samyar Modabber",
      "photoUrl": "https://lh3.googleusercontent.com/a-/AOh14Gii7rGSts4QF_CBI22EudPsQiOuPk19sNMballw=s64",
      "userId": "17915325615269228654"
     },
     "user_tz": -120
    },
    "id": "ex_qxNlJQvkE",
    "outputId": "a26c540b-0551-4378-eccb-6eba042473e9"
   },
   "outputs": [],
   "source": [
    "name='Ramin'\n",
    "welcome='Welcome, dear'\n",
    "\n",
    "message8=welcome+ ' ' + name+'!'\n",
    "print(message8)"
   ]
  },
  {
   "cell_type": "markdown",
   "metadata": {
    "colab_type": "text",
    "id": "rNk38j4HS60l"
   },
   "source": [
    "**format and f**"
   ]
  },
  {
   "cell_type": "code",
   "execution_count": null,
   "metadata": {
    "colab": {
     "base_uri": "https://localhost:8080/",
     "height": 68
    },
    "colab_type": "code",
    "executionInfo": {
     "elapsed": 768,
     "status": "ok",
     "timestamp": 1593807083570,
     "user": {
      "displayName": "Samyar Modabber",
      "photoUrl": "https://lh3.googleusercontent.com/a-/AOh14Gii7rGSts4QF_CBI22EudPsQiOuPk19sNMballw=s64",
      "userId": "17915325615269228654"
     },
     "user_tz": -120
    },
    "id": "sNFq7hyTRXml",
    "outputId": "3eec7a57-eefd-424c-9884-5b994864b9d7"
   },
   "outputs": [],
   "source": [
    "name='Armin'\n",
    "unread_messages=23\n",
    "\n",
    "print('Dear {}, you have {} unreaded message(s).'.format(name,unread_messages))\n",
    "\n",
    "print(f'Dear {name}, you have {unread_messages} unreaded message(s).') #python 3.6+\n",
    "\n",
    "print(f'Dear {name.upper()}, you have {unread_messages:3d} unreaded message(s).') #python 3.6+\n"
   ]
  },
  {
   "cell_type": "markdown",
   "metadata": {
    "colab_type": "text",
    "id": "PTszPRQhUvV0"
   },
   "source": [
    "**dir and help**"
   ]
  },
  {
   "cell_type": "code",
   "execution_count": null,
   "metadata": {
    "colab": {
     "base_uri": "https://localhost:8080/",
     "height": 221
    },
    "colab_type": "code",
    "executionInfo": {
     "elapsed": 885,
     "status": "ok",
     "timestamp": 1593807614622,
     "user": {
      "displayName": "Samyar Modabber",
      "photoUrl": "https://lh3.googleusercontent.com/a-/AOh14Gii7rGSts4QF_CBI22EudPsQiOuPk19sNMballw=s64",
      "userId": "17915325615269228654"
     },
     "user_tz": -120
    },
    "id": "zvTsIw-HSsx8",
    "outputId": "0cb620c2-820c-43d3-a77e-6387073e3f66"
   },
   "outputs": [],
   "source": [
    "message10='bye'\n",
    "\n",
    "# print(dir(message10))\n",
    "# print(help(str))\n",
    "print(help(str.find))"
   ]
  },
  {
   "cell_type": "markdown",
   "metadata": {
    "colab": {},
    "colab_type": "code",
    "id": "ZQaHrecSU-tb"
   },
   "source": [
    "## Methods\n",
    "\n",
    "In Python strings are **immutable**. This means that for instance the following assignment is not legal:\n",
    "\n",
    "``s=\"text\"\n",
    "s[0] = \"a\"    # This is not legal in Python\n",
    "``\n",
    "\n",
    "Because of the immutability of the strings, the string methods work by returning a value; they don’t have any side-effects. \n",
    "\n",
    "In the rest of this section we briefly describe several of these methods. The methods are here divided into five groups.\n"
   ]
  },
  {
   "cell_type": "markdown",
   "metadata": {},
   "source": [
    "**1.\tClassification of strings:**\n",
    "\n",
    "All the following methods will take no parameters and return a truth value. An empty string will always result in False.\n"
   ]
  },
  {
   "cell_type": "code",
   "execution_count": 31,
   "metadata": {},
   "outputs": [
    {
     "data": {
      "text/plain": [
       "False"
      ]
     },
     "execution_count": 31,
     "metadata": {},
     "output_type": "execute_result"
    }
   ],
   "source": [
    "s=' All the following Methods.'\n",
    "\n",
    "# s.isalpha() #True if all characters are letters\n",
    "# s.isdigit() #True if all characters are digits\n",
    "# s.isalnum() #True if all characters are letters or digits\n",
    "\n",
    "# s.islower() #True if contains letters, and all are lowercase\n",
    "# s.isupper() #True if contains letters, and all are uppercase\n",
    "#s.isspace() #True if all characters are whitespace\n",
    "#s.istitle() #True if uppercase in the beginning of word, elsewhere lowercase"
   ]
  },
  {
   "cell_type": "markdown",
   "metadata": {},
   "source": [
    "**2.\tString transformations:**\n",
    "\n",
    "The following methods do conversions between lower and uppercase characters in the string. All these methods return a new string.\n"
   ]
  },
  {
   "cell_type": "code",
   "execution_count": 32,
   "metadata": {},
   "outputs": [
    {
     "name": "stdout",
     "output_type": "stream",
     "text": [
      "main srting:  All the following Methods.\n",
      "lower:  all the following methods.\n",
      "upper:  ALL THE FOLLOWING METHODS.\n",
      "capitalize:  all the following methods.\n",
      "title:  All The Following Methods.\n",
      "swapcase:  aLL THE FOLLOWING mETHODS.\n"
     ]
    }
   ],
   "source": [
    "s=' All the following Methods.'\n",
    "print('main srting:',s)\n",
    "\n",
    "sl=s.lower() #Change all letters to lowercase\n",
    "print('lower:',sl)\n",
    "\n",
    "su=s.upper() #Change all letters to uppercase\n",
    "print('upper:',su)\n",
    "\n",
    "sc=s.capitalize() #Change all letters to capitalcase\n",
    "print('capitalize:',sc)\n",
    "\n",
    "st=s.title() #Change to titlecase\n",
    "print('title:',st)\n",
    "\n",
    "ss=s.swapcase() #Change all uppercase letters to lowercase, and vice versa\n",
    "print('swapcase:',ss)\n"
   ]
  },
  {
   "cell_type": "markdown",
   "metadata": {},
   "source": [
    "**3.\tSearching for substrings:**\n",
    "\n",
    "All the following methods get the wanted substring as the parameter, except the replace method, which also gets the replacing string as a parameter"
   ]
  },
  {
   "cell_type": "code",
   "execution_count": 33,
   "metadata": {},
   "outputs": [
    {
     "name": "stdout",
     "output_type": "stream",
     "text": [
      "sc:2\n",
      "sf:2 sr:11\n",
      "si:2 sri:11\n",
      "start:False end:False\n",
      "sn: A- the fo-owing methods\n"
     ]
    }
   ],
   "source": [
    "s=' All the following methods'\n",
    "substr='ll'\n",
    "m=s.count(substr) #Counts the number of occurences of a substring\n",
    "print(f'sc:{m}')\n",
    "\n",
    "sf=s.find(substr) #Finds index of the first occurence of a substring, or -1\n",
    "sr=s.rfind(substr) #Finds index of the last occurence of a substring, or -1\n",
    "print(f'sf:{sf} sr:{sr}')\n",
    "\n",
    "##ValueError\n",
    "si=s.index(substr) #Like find, except ValueError is raised if not found\n",
    "sri=s.rindex(substr) #Like rfind, except ValueError is raised if not found\n",
    "print(f'si:{si} sri:{sri}')\n",
    "\n",
    "target='All'\n",
    "start=s.startswith(target) #Returns True if string starts with a given substring\n",
    "end=s.endswith(target) #Returns True if string ends with a given substring\n",
    "print(f'start:{start} end:{end}')\n",
    "\n",
    "replacement='-'\n",
    "sn=s.replace(substr, replacement) #Returns a string where occurences of one string are replaced by another\n",
    "print(f'sn:{sn}')"
   ]
  },
  {
   "cell_type": "markdown",
   "metadata": {},
   "source": [
    "**4.\tTrimming and adjusting**"
   ]
  },
  {
   "cell_type": "code",
   "execution_count": null,
   "metadata": {},
   "outputs": [],
   "source": [
    "s='  Removes   leading and   '\n",
    "x='s'\n",
    "s.strip() #Removes leading and trailing whitespace by default, or characters found in string x\n",
    "#s.lstrip(x) #Same as strip but only leading characters are removed\n",
    "#s.rstrip(x) #Same as strip but only trailing characters are removed\n",
    "n=20\n",
    "#s.ljust(n) #Left justifies string inside a field of length n\n",
    "#s.rjust(n) #Right justifies string inside a field of length n\n",
    "s.center(n) #Centers string inside a field of length n"
   ]
  },
  {
   "cell_type": "markdown",
   "metadata": {},
   "source": [
    "**5.\tJoining and splitting:**\n",
    "\n",
    "The join(seq) method joins the strings of the sequence seq. The string itself is used as a delimitter. An example:"
   ]
  },
  {
   "cell_type": "code",
   "execution_count": 37,
   "metadata": {},
   "outputs": [
    {
     "name": "stdout",
     "output_type": "stream",
     "text": [
      "abc*def*ghi\n"
     ]
    }
   ],
   "source": [
    "allStr=\"*\".join([\"abc\", \"def\", \"ghi\"])\n",
    "print(allStr)"
   ]
  },
  {
   "cell_type": "code",
   "execution_count": 38,
   "metadata": {},
   "outputs": [
    {
     "name": "stdout",
     "output_type": "stream",
     "text": [
      "['method', 'joins', 'the', 'strings', 'of', 'the', 'sequence']\n"
     ]
    }
   ],
   "source": [
    "s='method joins the strings of the sequence'\n",
    "sp=s.split()\n",
    "print(sp)"
   ]
  }
 ],
 "metadata": {
  "colab": {
   "authorship_tag": "ABX9TyNwv1rKlEljX98UumI/Vxsz",
   "name": "01 pythonSam.ipynb",
   "provenance": []
  },
  "kernelspec": {
   "display_name": "Python 3",
   "language": "python",
   "name": "python3"
  },
  "language_info": {
   "codemirror_mode": {
    "name": "ipython",
    "version": 3
   },
   "file_extension": ".py",
   "mimetype": "text/x-python",
   "name": "python",
   "nbconvert_exporter": "python",
   "pygments_lexer": "ipython3",
   "version": "3.8.3"
  }
 },
 "nbformat": 4,
 "nbformat_minor": 4
}
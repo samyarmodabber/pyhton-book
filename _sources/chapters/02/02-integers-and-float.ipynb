{
 "cells": [
  {
   "cell_type": "markdown",
   "metadata": {},
   "source": [
    "# Integers and Float"
   ]
  },
  {
   "cell_type": "markdown",
   "metadata": {},
   "source": [
    "## Numbers"
   ]
  },
  {
   "cell_type": "markdown",
   "metadata": {},
   "source": [
    "**types**"
   ]
  },
  {
   "cell_type": "code",
   "execution_count": 2,
   "metadata": {},
   "outputs": [
    {
     "name": "stdout",
     "output_type": "stream",
     "text": [
      "<class 'int'>\n",
      "<class 'float'>\n",
      "<class 'complex'>\n"
     ]
    }
   ],
   "source": [
    "num1=19\n",
    "num2=3.14\n",
    "num3=2+3j\n",
    "print(type(num1))\n",
    "print(type(num2))\n",
    "print(type(num3))"
   ]
  },
  {
   "cell_type": "markdown",
   "metadata": {},
   "source": [
    "**basic operators**"
   ]
  },
  {
   "cell_type": "code",
   "execution_count": 1,
   "metadata": {},
   "outputs": [
    {
     "name": "stdout",
     "output_type": "stream",
     "text": [
      "Addition: 26\n",
      "Subtraction: 12\n",
      "Multiplication: 133\n",
      "Exponent: 893871739\n",
      "Division: 2.7142857142857144\n",
      "Floor Division: 2\n",
      "Modulus: 5\n"
     ]
    },
    {
     "data": {
      "text/plain": [
       "int"
      ]
     },
     "execution_count": 1,
     "metadata": {},
     "output_type": "execute_result"
    }
   ],
   "source": [
    "num1=19\n",
    "num2=7\n",
    "\n",
    "\n",
    "print('Addition:',num1+num2)\n",
    "print('Subtraction:',num1-num2)\n",
    "\n",
    "print('Multiplication:',num1*num2)\n",
    "print('Exponent:',num1**num2)\n",
    "\n",
    "print('Division:',num1/num2)\n",
    "print('Floor Division:',num1//num2)\n",
    "print('Modulus:',num1%num2)\n",
    "\n",
    "\n",
    "type(num1)"
   ]
  },
  {
   "cell_type": "code",
   "execution_count": 18,
   "metadata": {},
   "outputs": [
    {
     "name": "stdout",
     "output_type": "stream",
     "text": [
      "17\n"
     ]
    }
   ],
   "source": [
    "num=19\n",
    "# num=num%2\n",
    "\n",
    "num-=2 ## It can be + - * / % num=num%2\n",
    "print(num)"
   ]
  },
  {
   "cell_type": "code",
   "execution_count": 3,
   "metadata": {},
   "outputs": [
    {
     "name": "stdout",
     "output_type": "stream",
     "text": [
      "3\n",
      "3\n",
      "4.0\n"
     ]
    }
   ],
   "source": [
    "num1=-3\n",
    "print(abs(num1))\n",
    "\n",
    "num2=3.14\n",
    "print(int(num2))\n",
    "\n",
    "num3=16\n",
    "print(num3**(1/2))\n"
   ]
  },
  {
   "cell_type": "code",
   "execution_count": 21,
   "metadata": {},
   "outputs": [
    {
     "name": "stdout",
     "output_type": "stream",
     "text": [
      "19\n",
      "20\n",
      "19.2\n",
      "20.0\n",
      "-19\n",
      "-20\n"
     ]
    }
   ],
   "source": [
    "num1=19.19\n",
    "print(round(num1))\n",
    "num1=19.99\n",
    "print(round(num1))\n",
    "\n",
    "num1=19.19\n",
    "print(round(num1,1))\n",
    "num1=19.99\n",
    "print(round(num1,1))\n",
    "\n",
    "num1=-19.19\n",
    "print(round(num1))\n",
    "num1=-19.99\n",
    "print(round(num1))\n",
    "\n"
   ]
  },
  {
   "cell_type": "markdown",
   "metadata": {},
   "source": [
    "## Logic"
   ]
  },
  {
   "cell_type": "code",
   "execution_count": 4,
   "metadata": {},
   "outputs": [
    {
     "name": "stdout",
     "output_type": "stream",
     "text": [
      "False\n",
      "True\n",
      "True\n",
      "True\n",
      "True\n",
      "False\n",
      "False\n"
     ]
    },
    {
     "name": "stderr",
     "output_type": "stream",
     "text": [
      "<>:12: SyntaxWarning: \"is\" with a literal. Did you mean \"==\"?\n",
      "<>:12: SyntaxWarning: \"is\" with a literal. Did you mean \"==\"?\n",
      "<ipython-input-4-43b64229a9fc>:12: SyntaxWarning: \"is\" with a literal. Did you mean \"==\"?\n",
      "  print(0 is False)\n"
     ]
    },
    {
     "data": {
      "text/plain": [
       "builtin_function_or_method"
      ]
     },
     "execution_count": 4,
     "metadata": {},
     "output_type": "execute_result"
    }
   ],
   "source": [
    "p=True\n",
    "q=False\n",
    "\n",
    "print(p and q)\n",
    "print(p or q)\n",
    "print(not q)\n",
    "\n",
    "print(p is True)\n",
    "print(q is not True)\n",
    "\n",
    "print(None is False)\n",
    "print(0 is False)\n",
    "\n",
    "type(print)"
   ]
  },
  {
   "cell_type": "markdown",
   "metadata": {},
   "source": [
    "## Compare numbers"
   ]
  },
  {
   "cell_type": "code",
   "execution_count": 25,
   "metadata": {},
   "outputs": [
    {
     "name": "stdout",
     "output_type": "stream",
     "text": [
      "19 is equal 7? False\n",
      "19 is not equal 7? True\n",
      "19 is greater than 7? True\n",
      "19 is less than 7? False\n",
      "19 is greater than or equal 7? True\n",
      "19 is less than or equal 7? False\n",
      "Result: False\n"
     ]
    }
   ],
   "source": [
    "num1=19\n",
    "num2=7\n",
    "\n",
    "print(f'{num1} is equal {num2}?', num1==num2)\n",
    "print(f'{num1} is not equal {num2}?', num1!=num2)\n",
    "\n",
    "print(f'{num1} is greater than {num2}?', num1>num2)\n",
    "print(f'{num1} is less than {num2}?', num1<num2)\n",
    "\n",
    "print(f'{num1} is greater than or equal {num2}?', num1>=num2)\n",
    "print(f'{num1} is less than or equal {num2}?', num1<=num2)\n",
    "\n",
    "result= num1==num3\n",
    "print('Result:',result)"
   ]
  },
  {
   "cell_type": "code",
   "execution_count": 28,
   "metadata": {},
   "outputs": [
    {
     "data": {
      "text/plain": [
       "False"
      ]
     },
     "execution_count": 28,
     "metadata": {},
     "output_type": "execute_result"
    }
   ],
   "source": [
    "not num1!=num2"
   ]
  },
  {
   "cell_type": "markdown",
   "metadata": {},
   "source": [
    "## Convert"
   ]
  },
  {
   "cell_type": "code",
   "execution_count": 27,
   "metadata": {},
   "outputs": [
    {
     "name": "stdout",
     "output_type": "stream",
     "text": [
      "-2\n",
      "2.0\n",
      "123\n",
      "True False\n",
      "234\n"
     ]
    }
   ],
   "source": [
    "print(int(-2.8))\n",
    "print(float(2))\n",
    "print(int(\"123\"))\n",
    "print(bool(-2), bool(0))  # Zero is interpreted as False\n",
    "print(str(234))"
   ]
  },
  {
   "cell_type": "code",
   "execution_count": 32,
   "metadata": {},
   "outputs": [
    {
     "name": "stdout",
     "output_type": "stream",
     "text": [
      "26\n"
     ]
    }
   ],
   "source": [
    "num1='19'\n",
    "num2='7'\n",
    "\n",
    "# print(num1+num2)\n",
    "\n",
    "print(int(num1)+int(num2))"
   ]
  },
  {
   "cell_type": "code",
   "execution_count": null,
   "metadata": {},
   "outputs": [],
   "source": []
  },
  {
   "cell_type": "code",
   "execution_count": 2,
   "metadata": {},
   "outputs": [
    {
     "data": {
      "text/plain": [
       "True"
      ]
     },
     "execution_count": 2,
     "metadata": {},
     "output_type": "execute_result"
    }
   ],
   "source": [
    "True or True and False #  == True or (True and False)"
   ]
  },
  {
   "cell_type": "code",
   "execution_count": 3,
   "metadata": {},
   "outputs": [
    {
     "data": {
      "text/plain": [
       "False"
      ]
     },
     "execution_count": 3,
     "metadata": {},
     "output_type": "execute_result"
    }
   ],
   "source": [
    "(True or True) and False"
   ]
  },
  {
   "cell_type": "code",
   "execution_count": 4,
   "metadata": {},
   "outputs": [
    {
     "data": {
      "text/plain": [
       "True"
      ]
     },
     "execution_count": 4,
     "metadata": {},
     "output_type": "execute_result"
    }
   ],
   "source": []
  },
  {
   "cell_type": "code",
   "execution_count": 8,
   "metadata": {},
   "outputs": [
    {
     "data": {
      "text/plain": [
       "False"
      ]
     },
     "execution_count": 8,
     "metadata": {},
     "output_type": "execute_result"
    }
   ],
   "source": [
    "not False and False # == (not False) and True"
   ]
  },
  {
   "cell_type": "code",
   "execution_count": 9,
   "metadata": {},
   "outputs": [
    {
     "data": {
      "text/plain": [
       "True"
      ]
     },
     "execution_count": 9,
     "metadata": {},
     "output_type": "execute_result"
    }
   ],
   "source": [
    "not (False and False)"
   ]
  }
 ],
 "metadata": {
  "kernelspec": {
   "display_name": "Python 3",
   "language": "python",
   "name": "python3"
  },
  "language_info": {
   "codemirror_mode": {
    "name": "ipython",
    "version": 3
   },
   "file_extension": ".py",
   "mimetype": "text/x-python",
   "name": "python",
   "nbconvert_exporter": "python",
   "pygments_lexer": "ipython3",
   "version": "3.8.3"
  }
 },
 "nbformat": 4,
 "nbformat_minor": 4
}
